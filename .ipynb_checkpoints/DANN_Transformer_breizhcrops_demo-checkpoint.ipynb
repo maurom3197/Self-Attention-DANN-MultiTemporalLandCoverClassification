{
 "cells": [
  {
   "cell_type": "code",
   "execution_count": null,
   "id": "metropolitan-clearing",
   "metadata": {},
   "outputs": [],
   "source": [
    "%load_ext autoreload\n",
    "%autoreload 2"
   ]
  },
  {
   "cell_type": "code",
   "execution_count": null,
   "id": "northern-addiction",
   "metadata": {},
   "outputs": [],
   "source": [
    "import os\n",
    "import sys\n",
    "import argparse\n",
    "import breizhcrops\n",
    "import torch\n",
    "from pathlib import Path\n",
    "import numpy as np\n",
    "import matplotlib.pyplot as plt"
   ]
  },
  {
   "cell_type": "code",
   "execution_count": 3,
   "id": "treated-aircraft",
   "metadata": {},
   "outputs": [
    {
     "name": "stdout",
     "output_type": "stream",
     "text": [
      "cuda:0\n"
     ]
    }
   ],
   "source": [
    "device = torch.device(\"cuda:0\" if torch.cuda.is_available() else \"cpu\")\n",
    "\n",
    "# Assuming that we are on a CUDA machine, this should print a CUDA device:\n",
    "\n",
    "print(device)"
   ]
  },
  {
   "cell_type": "code",
   "execution_count": 4,
   "id": "statistical-alexandria",
   "metadata": {},
   "outputs": [
    {
     "name": "stdout",
     "output_type": "stream",
     "text": [
      "1.6.0\n"
     ]
    }
   ],
   "source": [
    "print(torch.__version__)"
   ]
  },
  {
   "cell_type": "code",
   "execution_count": 5,
   "id": "subtle-prediction",
   "metadata": {},
   "outputs": [],
   "source": [
    "import torch.multiprocessing\n",
    "torch.multiprocessing.set_sharing_strategy('file_system')"
   ]
  },
  {
   "cell_type": "markdown",
   "id": "experimental-fiber",
   "metadata": {},
   "source": [
    "# Define params and datapath"
   ]
  },
  {
   "cell_type": "code",
   "execution_count": 6,
   "id": "assured-undergraduate",
   "metadata": {},
   "outputs": [
    {
     "name": "stdout",
     "output_type": "stream",
     "text": [
      "/home/mauromartini/mauro_ws/Remote_sensing_DANN/breizhcrops_dataset\n"
     ]
    }
   ],
   "source": [
    "# insert breizhcrops dataset path\n",
    "abs_path= '/home/mauromartini/mauro_ws/Remote_sensing_DANN/breizhcrops_dataset'\n",
    "# path = '.../breizhcrops_dataset'\n",
    "datapath = Path(abs_path)\n",
    "print(datapath)\n",
    "mode = 'all_zones'\n",
    "batch_size = 256\n",
    "learning_rate = 0.001\n",
    "\n",
    "weight_decay = 5e-08\n",
    "workers = 0"
   ]
  },
  {
   "cell_type": "markdown",
   "id": "enabling-conducting",
   "metadata": {},
   "source": [
    "# Define Dataloader"
   ]
  },
  {
   "cell_type": "code",
   "execution_count": 7,
   "id": "experimental-compact",
   "metadata": {},
   "outputs": [],
   "source": [
    "from utils.data_load import *\n",
    "from utils.metrics import metrics"
   ]
  },
  {
   "cell_type": "code",
   "execution_count": 8,
   "id": "tender-england",
   "metadata": {},
   "outputs": [
    {
     "name": "stderr",
     "output_type": "stream",
     "text": [
      "\r",
      "loading data into RAM:   0%|          | 0/178632 [00:00<?, ?it/s]"
     ]
    },
    {
     "name": "stdout",
     "output_type": "stream",
     "text": [
      "Setting up datasets in /home/mauromartini/mauro_ws/Remote_sensing_DANN/breizhcrops_dataset, level L2A\n"
     ]
    },
    {
     "name": "stderr",
     "output_type": "stream",
     "text": [
      "loading data into RAM: 100%|██████████| 178632/178632 [00:50<00:00, 3525.30it/s]\n",
      "loading data into RAM: 100%|██████████| 140782/140782 [00:40<00:00, 3509.10it/s]\n",
      "loading data into RAM: 100%|██████████| 166367/166367 [00:47<00:00, 3487.04it/s]\n",
      "loading data into RAM: 100%|██████████| 122708/122708 [00:35<00:00, 3492.65it/s]\n"
     ]
    }
   ],
   "source": [
    "# if we want to import all zones data\n",
    "zone1dataset, zone2dataset, zone3dataset, zone4dataset, meta = get_datasets(datapath=datapath, mode=mode,\n",
    "                                                        batchsize=batch_size, \n",
    "                                                        preload_ram=True, level=\"L2A\")"
   ]
  },
  {
   "cell_type": "code",
   "execution_count": 9,
   "id": "sonic-commitment",
   "metadata": {},
   "outputs": [],
   "source": [
    "num_classes = meta[\"num_classes\"]\n",
    "ndims = meta[\"ndims\"]\n",
    "sequencelength = meta[\"sequencelength\"]"
   ]
  },
  {
   "cell_type": "code",
   "execution_count": 10,
   "id": "pretty-forth",
   "metadata": {},
   "outputs": [],
   "source": [
    "zone1dataloader, zone2dataloader, zone3dataloader, zone4dataloader = get_dataloader2(zone1dataset, zone2dataset, \n",
    "                                                                                     zone3dataset, zone4dataset,\n",
    "                                                                                     batchsize=batch_size, \n",
    "                                                                                     workers=workers)"
   ]
  },
  {
   "cell_type": "markdown",
   "id": "brilliant-mainland",
   "metadata": {},
   "source": [
    "# Define DANN Transformer"
   ]
  },
  {
   "cell_type": "code",
   "execution_count": 11,
   "id": "forward-acting",
   "metadata": {},
   "outputs": [],
   "source": [
    "# Transformer params\n",
    "#ndims=10\n",
    "#num_classes=9\n",
    "#sequencelength=45\n",
    "        \n",
    "d_model=64\n",
    "n_head=2\n",
    "n_layers=3\n",
    "d_inner=128"
   ]
  },
  {
   "cell_type": "code",
   "execution_count": 12,
   "id": "living-interaction",
   "metadata": {},
   "outputs": [
    {
     "name": "stdout",
     "output_type": "stream",
     "text": [
      "Initialized TransformerEncoder_input-dim=10_num-classes=9_d-model=64_d-inner=128_n-layers=3_n-head=2_dropout=0.1_learning-rate=0.001_weight-decay=5e-08\n",
      "Initialized TransformerEncoder_input-dim=10_num-classes=9_d-model=64_d-inner=128_n-layers=3_n-head=2_dropout=0.1_learning-rate=0.001_weight-decay=5e-08\n",
      "Logging results to logs/torch_transformer_dann/\n"
     ]
    }
   ],
   "source": [
    "from utils.DANN_Transformer_model import ViTransformerExtractor, ViTransformerDANN\n",
    "\n",
    "feature_ex = ViTransformerExtractor(input_dim=ndims, n_head=n_head, n_layers=n_layers, \n",
    "                                    activation=\"relu\",).to(device)\n",
    "dann_model = ViTransformerDANN(feature_ex, input_dim=ndims, num_classes=num_classes, n_layers = n_layers, \n",
    "                                    n_domain=2,\n",
    "                                    activation=\"relu\",).to(device)\n",
    "\n",
    "dann_model.modelname += f\"_learning-rate={learning_rate}_weight-decay={weight_decay}\"\n",
    "print(f\"Initialized {dann_model.modelname}\")\n",
    "\n",
    "logdir = 'logs/torch_transformer_dann/'\n",
    "\n",
    "print(f\"Initialized {dann_model.modelname}\")\n",
    "os.makedirs(logdir, exist_ok=True)\n",
    "print(f\"Logging results to {logdir}\")"
   ]
  },
  {
   "cell_type": "markdown",
   "id": "regional-cloud",
   "metadata": {},
   "source": [
    "# Prepare Training Functions"
   ]
  },
  {
   "cell_type": "code",
   "execution_count": null,
   "id": "little-behavior",
   "metadata": {},
   "outputs": [],
   "source": [
    "# define a tensorboard writer if desired\n",
    "from torch.utils.tensorboard import SummaryWriter\n",
    "\n",
    "writer = SummaryWriter(logdir)"
   ]
  },
  {
   "cell_type": "code",
   "execution_count": null,
   "id": "israeli-ethics",
   "metadata": {},
   "outputs": [],
   "source": [
    "# define the alpha exponential schedule from 0 to 0.5 for domain adaptation\n",
    "import matplotlib.pyplot as plt\n",
    "epochs = 250\n",
    "alpha = np.empty(epochs)\n",
    "p = np.linspace(0.0,1.0,epochs)\n",
    "\n",
    "gammas = [4,5,8,10]\n",
    "for gamma in gammas:\n",
    "    alpha = 0.5*(2/(1+np.exp(-gamma*p)) - 1)\n",
    "\n",
    "    plt.plot(range(epochs), alpha)\n",
    "    plt.grid(True)\n",
    "    plt.legend(gammas)\n",
    "    plt.title(\"Alpha schedule with different gamma exp values\")"
   ]
  },
  {
   "cell_type": "markdown",
   "id": "forward-regard",
   "metadata": {},
   "source": [
    "# Training loop DANN"
   ]
  },
  {
   "cell_type": "code",
   "execution_count": null,
   "id": "celtic-divide",
   "metadata": {},
   "outputs": [],
   "source": [
    "from utils.train import *\n",
    "zones = 4\n",
    "dataloaders = [(zone1dataloader,'zone1'), (zone2dataloader,'zone2'), (zone3dataloader,'zone3'), (zone4dataloader,'zone4')]\n",
    "epochs = 1\n",
    "\n",
    "#set domain adaptation parameter schedule\n",
    "p = np.linspace(0.0,1.0,epochs)\n",
    "gamma = 10\n",
    "alphas = 0.2*(2/(1+np.exp(-gamma*p)) - 1)\n",
    "\n",
    "# set constant alpha\n",
    "alpha_c = 0.2\n",
    "#alphas = alpha_c * np.ones(epochs, dtype = np.float32)\n"
   ]
  },
  {
   "cell_type": "code",
   "execution_count": null,
   "id": "proper-height",
   "metadata": {},
   "outputs": [],
   "source": [
    "# SET SOURCE DATA\n",
    "source = 1\n",
    "sourcedataloader = dataloaders[source][0]\n",
    "train_zone = dataloaders[source][1]\n",
    "print('Training zone:', train_zone)\n",
    "\n",
    "# SET TARGET DATA\n",
    "target = 2\n",
    "targetdataloader = dataloaders[target][0]\n",
    "target_zone = dataloaders[target][1]\n",
    "print('Target zone:', target_zone)\n",
    "\n",
    "# DEFINE MODE DIR AND NAME\n",
    "# if alpha scheduled save model as:\n",
    "model_path = 'models/vio_trasformer_dann_s'+str(source+1)+'_t'+ str(target+1)+'gamma'+str(gamma)+'.pth'\n",
    "# if constant alpha save model as:\n",
    "#path = 'models/vio_trasformer_dann_s'+str(i+1)+'_t'+ str(j+1)+'_alpha'+str(alpha_c)\n",
    "#model_dir = Path(path)\n",
    "save_freq = 10\n",
    "\n",
    "# SET LOSS\n",
    "criterion = torch.nn.CrossEntropyLoss(reduction=\"mean\")\n",
    "\n",
    "# SET OPTIMIZER AND LR SCHEDULER\n",
    "optimizer = Adam(dann_model.parameters(), lr=learning_rate, weight_decay=weight_decay)\n",
    "lambda2 = lambda epoch: 0.99 ** epoch\n",
    "scheduler = torch.optim.lr_scheduler.LambdaLR(optimizer, lr_lambda=lambda2)\n",
    "\n",
    "# TRAIN SINGLE SOURCE_TARGET MODEL\n",
    "train_single_model(epochs, dann_model, \n",
    "                   optimizer, scheduler, criterion, sourcedataloader, targetdataloader, \n",
    "                   device,  alphas, model_path, save_freq)"
   ]
  },
  {
   "cell_type": "code",
   "execution_count": null,
   "id": "resident-runner",
   "metadata": {},
   "outputs": [],
   "source": [
    "# IF WANT TO TRAIN ALL MODELS\n",
    "train_all_models(zones, epochs, dataloaders, device, alphas, meta, save_freq)"
   ]
  },
  {
   "cell_type": "markdown",
   "id": "atmospheric-glucose",
   "metadata": {},
   "source": [
    "# Test on single Zone"
   ]
  },
  {
   "cell_type": "code",
   "execution_count": 13,
   "id": "fixed-property",
   "metadata": {},
   "outputs": [
    {
     "name": "stderr",
     "output_type": "stream",
     "text": [
      "test loss=1.26:   0%|          | 2/650 [00:00<00:55, 11.71it/s]"
     ]
    },
    {
     "name": "stdout",
     "output_type": "stream",
     "text": [
      "Target zone: zone3\n"
     ]
    },
    {
     "name": "stderr",
     "output_type": "stream",
     "text": [
      "test loss=1.12: 100%|██████████| 650/650 [00:51<00:00, 12.52it/s]\n"
     ]
    },
    {
     "name": "stdout",
     "output_type": "stream",
     "text": [
      "{'accuracy': 0.6509223584004039, 'kappa': 0.5488366414465226, 'f1_micro': 0.6509223584004039, 'f1_macro': 0.4549411500589058, 'f1_weighted': 0.6572271819799855, 'recall_micro': 0.6509223584004039, 'recall_macro': 0.45683933527750864, 'recall_weighted': 0.6509223584004039, 'precision_micro': 0.6509223584004039, 'precision_macro': 0.4741012562357224, 'precision_weighted': 0.6819147640865526}\n"
     ]
    },
    {
     "name": "stderr",
     "output_type": "stream",
     "text": [
      "/home/mauromartini/.virtualenvs/pytorch/lib/python3.6/site-packages/sklearn/metrics/_classification.py:1245: UndefinedMetricWarning: Precision is ill-defined and being set to 0.0 in labels with no predicted samples. Use `zero_division` parameter to control this behavior.\n",
      "  _warn_prf(average, modifier, msg_start, len(result))\n",
      "/home/mauromartini/.virtualenvs/pytorch/lib/python3.6/site-packages/sklearn/metrics/_classification.py:1245: UndefinedMetricWarning: Precision is ill-defined and being set to 0.0 in labels with no predicted samples. Use `zero_division` parameter to control this behavior.\n",
      "  _warn_prf(average, modifier, msg_start, len(result))\n"
     ]
    }
   ],
   "source": [
    "from utils.test import test_epoch\n",
    "\n",
    "dataloaders = [(zone1dataloader,'zone1'), (zone2dataloader,'zone2'), (zone3dataloader,'zone3'), (zone4dataloader,'zone4')]\n",
    "feature_ex = ViTransformerExtractor(input_dim=ndims, n_head = n_head, n_layers = n_layers, activation=\"relu\",).to(device)\n",
    "dann_model = ViTransformerDANN(feature_ex, input_dim=ndims, num_classes=num_classes,\n",
    "                                n_layers = n_layers, n_domain=2,activation=\"relu\",).to(device)\n",
    "\n",
    "path = 'models/vio_trasformer_dann_s2_t3_maxalpha02_gamma10/archive.zip'\n",
    "model_dir = Path(path)\n",
    "dann_model.load_state_dict(torch.load(model_dir))\n",
    "\n",
    "criterion = torch.nn.CrossEntropyLoss(reduction=\"mean\")\n",
    "\n",
    "# SET TARGET DATA\n",
    "ZONE = 3 #indicate the number of the desired target zone\n",
    "testdataloader = dataloaders[ZONE-1][0]\n",
    "test_zone = dataloaders[ZONE-1][1]\n",
    "print('Target zone:', test_zone)\n",
    "\n",
    "test_loss, y_true, y_pred, *_ = test_epoch(dann_model, criterion, testdataloader, device)\n",
    "\n",
    "scores = metrics(y_true.cpu(), y_pred.cpu())\n",
    "scores_msg = \", \".join([f\"{k}={v:.2f}\" for (k, v) in scores.items()])\n",
    "\n",
    "test_loss = test_loss.cpu().detach().numpy()[0]\n",
    "print(scores)"
   ]
  },
  {
   "cell_type": "markdown",
   "id": "white-freeze",
   "metadata": {},
   "source": [
    "# Test on all zones"
   ]
  },
  {
   "cell_type": "code",
   "execution_count": null,
   "id": "informed-immune",
   "metadata": {},
   "outputs": [],
   "source": [
    "from utils.test import test_on_all_zones\n",
    "zones = 4\n",
    "dataloaders = [(zone1dataloader,'zone1'), (zone2dataloader,'zone2'), (zone3dataloader,'zone3'), (zone4dataloader,'zone4')]\n",
    "\n",
    "# DEFINE MODEL\n",
    "feature_ex = ViTransformerExtractor(input_dim=ndims, n_head = n_head, n_layers = n_layers, activation=\"relu\",).to(device)\n",
    "dann_model = ViTransformerDANN(feature_ex, input_dim=ndims, num_classes=num_classes,\n",
    "                                n_layers = n_layers, n_domain=2,activation=\"relu\",).to(device)\n",
    "\n",
    "criterion = torch.nn.CrossEntropyLoss(reduction=\"mean\")\n",
    "\n",
    "for i in range(zones):\n",
    "    \n",
    "    traindataloader = dataloaders[i][0]\n",
    "    train_zone = dataloaders[i][1]\n",
    "    print('Source zone:', train_zone)\n",
    "    \n",
    "    for j in range(zones):\n",
    "        if j!= i:\n",
    "            # DEFINE MODE DIR AND NAME\n",
    "                # if alpha scheduled save model as:\n",
    "            path = 'models/vio_trasformer_dann_s'+str(i+1)+'_t'+ str(j+1)+'_maxalpha02_gamma'+str(gamma)\n",
    "                # if constant alpha save model as:\n",
    "            #path = 'models/vio_trasformer_dann_s'+str(i+1)+'_t'+ str(j+1)+'_alpha'+str(alpha_c)\n",
    "            model_dir = Path(path)\n",
    "            dann_model.load_state_dict(torch.load(model_dir))\n",
    "            \n",
    "            # SET TARGET DATA\n",
    "            testdataloader = dataloaders[j][0]\n",
    "            test_zone = dataloaders[j][1]\n",
    "            print('Target zone:', test_zone)\n",
    "\n",
    "            test_loss, y_true, y_pred, *_ = test_epoch(dann_model, criterion, testdataloader, device)\n",
    "\n",
    "            scores = metrics(y_true.cpu(), y_pred.cpu())\n",
    "            scores_msg = \", \".join([f\"{k}={v:.2f}\" for (k, v) in scores.items()])\n",
    "            test_loss = test_loss.cpu().detach().numpy()[0]\n",
    "            print(scores)"
   ]
  },
  {
   "cell_type": "markdown",
   "id": "worse-elder",
   "metadata": {},
   "source": [
    "#  Plot Confusion Matrix"
   ]
  },
  {
   "cell_type": "code",
   "execution_count": 15,
   "id": "stylish-billion",
   "metadata": {},
   "outputs": [],
   "source": [
    "label_names = ['barley', 'wheat', 'rapeseed', 'corn', 'sunflower', 'orchards',\n",
    "       'nuts', 'permanent_meadows', 'temporary_meadows']"
   ]
  },
  {
   "cell_type": "code",
   "execution_count": 16,
   "id": "trained-thing",
   "metadata": {},
   "outputs": [
    {
     "name": "stdout",
     "output_type": "stream",
     "text": [
      "Confusion matrix, without normalization\n",
      "[[ 4850   132    12  1348     0     0     0   101   711]\n",
      " [ 1232 18154     6  5899     0     5     0   700  1206]\n",
      " [  101    10  2811   102     0     0     0    62   471]\n",
      " [ 1664   120    17 33467     0    46     0  1561  5136]\n",
      " [    1     0     0     8     0     0     0     0     1]\n",
      " [   43     7     5    61     0    14     0   833   254]\n",
      " [    1     0     0     1     0     0     0     5     3]\n",
      " [ 1751    68    12   436     0   109     0 20213  9935]\n",
      " [ 2197   188    28  1616     0   124     0 19746 28783]]\n"
     ]
    },
    {
     "data": {
      "image/png": "[encoded data removed]",
      "text/plain": [
       "<Figure size 720x720 with 1 Axes>"
      ]
     },
     "metadata": {
      "needs_background": "light"
     },
     "output_type": "display_data"
    }
   ],
   "source": [
    "from utils.visualize_results import plot_confusion_matrix\n",
    "from sklearn.metrics import confusion_matrix\n",
    "\n",
    "cm = confusion_matrix(y_true.cpu(), y_pred.cpu())\n",
    "fig = plt.figure(figsize=(10,10))\n",
    "plot_confusion_matrix(cm, label_names, title = 'Confusion matrix zone 3: DANN')\n",
    "\n",
    "fig.savefig('DANNconfusion_matrix_zone2_3.png')"
   ]
  }
 ],
 "metadata": {
  "kernelspec": {
   "display_name": "pytorch",
   "language": "python",
   "name": "pytorch"
  },
  "language_info": {
   "codemirror_mode": {
    "name": "ipython",
    "version": 3
   },
   "file_extension": ".py",
   "mimetype": "text/x-python",
   "name": "python",
   "nbconvert_exporter": "python",
   "pygments_lexer": "ipython3",
   "version": "3.6.9"
  }
 },
 "nbformat": 4,
 "nbformat_minor": 5
}
