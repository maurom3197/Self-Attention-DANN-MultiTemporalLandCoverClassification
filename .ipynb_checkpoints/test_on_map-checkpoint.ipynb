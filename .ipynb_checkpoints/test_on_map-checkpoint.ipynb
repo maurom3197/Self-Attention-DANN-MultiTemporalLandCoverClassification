{
 "cells": [
  {
   "cell_type": "code",
   "execution_count": 1,
   "id": "metropolitan-clearing",
   "metadata": {},
   "outputs": [],
   "source": [
    "%load_ext autoreload\n",
    "%autoreload 2"
   ]
  },
  {
   "cell_type": "code",
   "execution_count": 2,
   "id": "northern-addiction",
   "metadata": {},
   "outputs": [],
   "source": [
    "import os\n",
    "import sys\n",
    "import argparse\n",
    "import breizhcrops\n",
    "import torch\n",
    "from pathlib import Path\n",
    "import numpy as np\n",
    "import matplotlib.pyplot as plt"
   ]
  },
  {
   "cell_type": "code",
   "execution_count": 3,
   "id": "treated-aircraft",
   "metadata": {},
   "outputs": [
    {
     "name": "stdout",
     "output_type": "stream",
     "text": [
      "cuda:0\n"
     ]
    }
   ],
   "source": [
    "device = torch.device(\"cuda:0\" if torch.cuda.is_available() else \"cpu\")\n",
    "\n",
    "# Assuming that we are on a CUDA machine, this should print a CUDA device:\n",
    "\n",
    "print(device)"
   ]
  },
  {
   "cell_type": "code",
   "execution_count": 4,
   "id": "statistical-alexandria",
   "metadata": {},
   "outputs": [
    {
     "name": "stdout",
     "output_type": "stream",
     "text": [
      "1.6.0\n"
     ]
    }
   ],
   "source": [
    "print(torch.__version__)"
   ]
  },
  {
   "cell_type": "code",
   "execution_count": 5,
   "id": "subtle-prediction",
   "metadata": {},
   "outputs": [],
   "source": [
    "import torch.multiprocessing\n",
    "torch.multiprocessing.set_sharing_strategy('file_system')"
   ]
  },
  {
   "cell_type": "markdown",
   "id": "experimental-fiber",
   "metadata": {},
   "source": [
    "# Define params and datapath"
   ]
  },
  {
   "cell_type": "code",
   "execution_count": 6,
   "id": "assured-undergraduate",
   "metadata": {},
   "outputs": [
    {
     "name": "stdout",
     "output_type": "stream",
     "text": [
      "/home/mauromartini/mauro_ws/Remote_sensing_DANN/breizhcrops_dataset\n"
     ]
    }
   ],
   "source": [
    "# insert breizhcrops dataset path\n",
    "abs_path= '/home/mauromartini/mauro_ws/Remote_sensing_DANN/breizhcrops_dataset'\n",
    "# path = '.../breizhcrops_dataset'\n",
    "datapath = Path(abs_path)\n",
    "print(datapath)\n",
    "mode = 'all_zones'\n",
    "batch_size = 256\n",
    "learning_rate = 0.001\n",
    "\n",
    "weight_decay = 5e-08\n",
    "workers = 0"
   ]
  },
  {
   "cell_type": "markdown",
   "id": "enabling-conducting",
   "metadata": {},
   "source": [
    "# Define Dataloader"
   ]
  },
  {
   "cell_type": "code",
   "execution_count": 7,
   "id": "experimental-compact",
   "metadata": {},
   "outputs": [],
   "source": [
    "from utils.data_load import *\n",
    "from utils.metrics import metrics"
   ]
  },
  {
   "cell_type": "code",
   "execution_count": null,
   "id": "tender-england",
   "metadata": {},
   "outputs": [
    {
     "name": "stderr",
     "output_type": "stream",
     "text": [
      "\r",
      "loading data into RAM:   0%|          | 0/178632 [00:00<?, ?it/s]"
     ]
    },
    {
     "name": "stdout",
     "output_type": "stream",
     "text": [
      "Setting up datasets in /home/mauromartini/mauro_ws/Remote_sensing_DANN/breizhcrops_dataset, level L2A\n"
     ]
    },
    {
     "name": "stderr",
     "output_type": "stream",
     "text": [
      "loading data into RAM:  50%|████▉     | 88953/178632 [00:25<00:25, 3465.39it/s]"
     ]
    }
   ],
   "source": [
    "# if we want to import all zones data\n",
    "zone1dataset, zone2dataset, zone3dataset, zone4dataset, meta = get_datasets(datapath=datapath, mode=mode,\n",
    "                                                        batchsize=batch_size, \n",
    "                                                        preload_ram=True, level=\"L2A\")"
   ]
  },
  {
   "cell_type": "code",
   "execution_count": null,
   "id": "sonic-commitment",
   "metadata": {},
   "outputs": [],
   "source": [
    "num_classes = meta[\"num_classes\"]\n",
    "ndims = meta[\"ndims\"]\n",
    "sequencelength = meta[\"sequencelength\"]"
   ]
  },
  {
   "cell_type": "code",
   "execution_count": null,
   "id": "pretty-forth",
   "metadata": {},
   "outputs": [],
   "source": [
    "zone1dataloader, zone2dataloader, zone3dataloader, zone4dataloader = get_dataloader2(zone1dataset, zone2dataset, \n",
    "                                                                                     zone3dataset, zone4dataset,\n",
    "                                                                                     batchsize=batch_size, \n",
    "                                                                                     workers=workers)"
   ]
  },
  {
   "cell_type": "markdown",
   "id": "brilliant-mainland",
   "metadata": {},
   "source": [
    "# Define DANN Transformer"
   ]
  },
  {
   "cell_type": "code",
   "execution_count": null,
   "id": "forward-acting",
   "metadata": {},
   "outputs": [],
   "source": [
    "# Transformer params\n",
    "#ndims=10\n",
    "#num_classes=9\n",
    "#sequencelength=45\n",
    "        \n",
    "d_model=64\n",
    "n_head=2\n",
    "n_layers=3\n",
    "d_inner=128"
   ]
  },
  {
   "cell_type": "code",
   "execution_count": null,
   "id": "living-interaction",
   "metadata": {},
   "outputs": [],
   "source": [
    "from utils.DANN_Transformer_model import ViTransformerExtractor, ViTransformerDANN\n",
    "\n",
    "feature_ex = ViTransformerExtractor(input_dim=ndims, n_head=n_head, n_layers=n_layers, \n",
    "                                    activation=\"relu\",).to(device)\n",
    "dann_model = ViTransformerDANN(feature_ex, input_dim=ndims, num_classes=num_classes, n_layers = n_layers, \n",
    "                                    n_domain=2,\n",
    "                                    activation=\"relu\",).to(device)\n",
    "\n",
    "dann_model.modelname += f\"_learning-rate={learning_rate}_weight-decay={weight_decay}\"\n",
    "print(f\"Initialized {dann_model.modelname}\")\n",
    "\n",
    "logdir = 'logs/torch_transformer_dann/'\n",
    "\n",
    "print(f\"Initialized {dann_model.modelname}\")\n",
    "os.makedirs(logdir, exist_ok=True)\n",
    "print(f\"Logging results to {logdir}\")"
   ]
  },
  {
   "cell_type": "markdown",
   "id": "encouraging-aaron",
   "metadata": {},
   "source": [
    "# Make Predictions on test"
   ]
  },
  {
   "cell_type": "code",
   "execution_count": null,
   "id": "fixed-property",
   "metadata": {},
   "outputs": [],
   "source": [
    "from utils.test import test_epoch\n",
    "\n",
    "dataloaders = [(zone1dataloader,'zone1'), (zone2dataloader,'zone2'), (zone3dataloader,'zone3'), (zone4dataloader,'zone4')]\n",
    "feature_ex = ViTransformerExtractor(input_dim=ndims, n_head = n_head, n_layers = n_layers, activation=\"relu\",).to(device)\n",
    "dann_model = ViTransformerDANN(feature_ex, input_dim=ndims, num_classes=num_classes,\n",
    "                                n_layers = n_layers, n_domain=2,activation=\"relu\",).to(device)\n",
    "\n",
    "path = 'models/vio_trasformer_dann_s2_t3_maxalpha02_gamma10/archive.zip'\n",
    "model_dir = Path(path)\n",
    "dann_model.load_state_dict(torch.load(model_dir))\n",
    "\n",
    "criterion = torch.nn.CrossEntropyLoss(reduction=\"mean\")\n",
    "\n",
    "# SET TARGET DATA\n",
    "ZONE = 3 #indicate the number of the desired target zone\n",
    "testdataloader = dataloaders[ZONE-1][0]\n",
    "test_zone = dataloaders[ZONE-1][1]\n",
    "print('Target zone:', test_zone)\n",
    "\n",
    "test_loss, y_true, y_pred, *_ = test_epoch(dann_model, criterion, testdataloader, device)\n",
    "\n",
    "scores = metrics(y_true.cpu(), y_pred.cpu())\n",
    "scores_msg = \", \".join([f\"{k}={v:.2f}\" for (k, v) in scores.items()])\n",
    "\n",
    "test_loss = test_loss.cpu().detach().numpy()[0]\n",
    "print(scores)"
   ]
  },
  {
   "cell_type": "code",
   "execution_count": null,
   "id": "empty-serbia",
   "metadata": {},
   "outputs": [],
   "source": [
    "label_names = ['barley', 'wheat', 'rapeseed', 'corn', 'sunflower', 'orchards',\n",
    "       'nuts', 'permanent_meadows', 'temporary_meadows']"
   ]
  },
  {
   "cell_type": "code",
   "execution_count": null,
   "id": "separate-metropolitan",
   "metadata": {},
   "outputs": [],
   "source": [
    "y_pred_names = [label_names[i] for i in y_pred]"
   ]
  },
  {
   "cell_type": "code",
   "execution_count": null,
   "id": "intimate-liver",
   "metadata": {},
   "outputs": [],
   "source": [
    "field_parcels_geodataframe_dann = zone3dataset.geodataframe()\n",
    "field_parcels_geodataframe = zone3dataset.geodataframe()\n",
    "field_parcels_geodataframe_dann['classname'] = y_pred_names"
   ]
  },
  {
   "cell_type": "code",
   "execution_count": null,
   "id": "occupational-albania",
   "metadata": {},
   "outputs": [],
   "source": [
    "import contextily as ctx\n",
    "fig,axs = plt.subplots(1,2, figsize=(24,12))\n",
    "\n",
    "ax = axs[0]\n",
    "france_xlim = (-777823.199830,  1027313.660153)\n",
    "france_ylim = (5043620.874369, 6613943.183460)\n",
    "ax.set_xlim(*france_xlim)\n",
    "ax.set_ylim(*france_ylim)\n",
    "\n",
    "ctx.add_basemap(ax)\n",
    "\n",
    "ymin, xmin, ymax, xmax = field_parcels_geodataframe.to_crs(epsg=3857).total_bounds\n",
    "#ax.plot([xmin,xmin,xmax,xmax, xmin],[ymin,ymax,ymax,ymin, ymin])\n",
    "ax.plot([ymin],[xmin],\"ro\", markersize=20)\n",
    "ax.set_title(\"Ille-et-Vilaine within France\")\n",
    "\n",
    "ax = axs[1]\n",
    "ax = field_parcels_geodataframe_dann.to_crs(epsg=3857).plot(column=\"classname\", ax=ax, legend=False)\n",
    "ax.set_title(\"Ille-et-Vilaine\")\n",
    "ax.set_xlim(*(-175000,  -155000))\n",
    "ax.set_ylim(*(6160000, 6180000))\n",
    "ctx.add_basemap(ax)"
   ]
  },
  {
   "cell_type": "code",
   "execution_count": null,
   "id": "biological-assist",
   "metadata": {},
   "outputs": [],
   "source": [
    "import contextily as ctx\n",
    "fig,axs = plt.subplots(1,2, figsize=(24,12))\n",
    "\n",
    "ax = axs[0]\n",
    "france_xlim = (-777823.199830,  1027313.660153)\n",
    "france_ylim = (5043620.874369, 6613943.183460)\n",
    "ax.set_xlim(*france_xlim)\n",
    "ax.set_ylim(*france_ylim)\n",
    "\n",
    "ctx.add_basemap(ax)\n",
    "\n",
    "ymin, xmin, ymax, xmax = field_parcels_geodataframe.to_crs(epsg=3857).total_bounds\n",
    "#ax.plot([xmin,xmin,xmax,xmax, xmin],[ymin,ymax,ymax,ymin, ymin])\n",
    "ax.plot([ymin],[xmin],\"ro\", markersize=20)\n",
    "ax.set_title(\"Ille-et-Vilaine within France\")\n",
    "\n",
    "ax = axs[1]\n",
    "ax = field_parcels_geodataframe_dann.to_crs(epsg=3857).plot(column=\"classname\", ax=ax, legend=True)\n",
    "ax.set_title(\"Ille-et-Vilaine\")\n",
    "ctx.add_basemap(ax)"
   ]
  },
  {
   "cell_type": "code",
   "execution_count": null,
   "id": "worst-ministry",
   "metadata": {},
   "outputs": [],
   "source": []
  }
 ],
 "metadata": {
  "kernelspec": {
   "display_name": "pytorch",
   "language": "python",
   "name": "pytorch"
  },
  "language_info": {
   "codemirror_mode": {
    "name": "ipython",
    "version": 3
   },
   "file_extension": ".py",
   "mimetype": "text/x-python",
   "name": "python",
   "nbconvert_exporter": "python",
   "pygments_lexer": "ipython3",
   "version": "3.6.9"
  }
 },
 "nbformat": 4,
 "nbformat_minor": 5
}
